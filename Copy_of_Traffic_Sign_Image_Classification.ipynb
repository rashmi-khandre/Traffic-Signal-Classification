{
  "metadata": {
    "kernelspec": {
      "language": "python",
      "display_name": "Python 3",
      "name": "python3"
    },
    "language_info": {
      "name": "python",
      "version": "3.7.12",
      "mimetype": "text/x-python",
      "codemirror_mode": {
        "name": "ipython",
        "version": 3
      },
      "pygments_lexer": "ipython3",
      "nbconvert_exporter": "python",
      "file_extension": ".py"
    },
    "colab": {
      "provenance": []
    },
    "accelerator": "GPU"
  },
  "nbformat_minor": 0,
  "nbformat": 4,
  "cells": [
    {
      "cell_type": "markdown",
      "source": [
        "# **Traffic Sign Image Classification**"
      ],
      "metadata": {
        "id": "1__2AKu68xEj"
      }
    },
    {
      "cell_type": "markdown",
      "source": [
        "#What is Traffic Signs Recognition?\n",
        "There are several different types of traffic signs like speed limits, no entry, traffic signals, turn left or right, children crossing, no passing of heavy vehicles, etc. Traffic signs classification is the process of identifying which class a traffic sign belongs to."
      ],
      "metadata": {
        "id": "5xPNdO1S8d-s"
      }
    },
    {
      "cell_type": "markdown",
      "source": [
        "#Traffic Signs Recognition – About the Python Project\n",
        "In this Python project example, we will build a deep neural network model that can classify traffic signs present in the image into different categories. With this model, we are able to read and understand traffic signs which are a very important task for all autonomous vehicles."
      ],
      "metadata": {
        "id": "OI9P7A_Z8il1"
      }
    },
    {
      "cell_type": "markdown",
      "source": [
        "#The Dataset of Python Project\n",
        "\n",
        "For this project, we are using the public dataset available at Kaggle:\n",
        "\n",
        "Traffic Signs Dataset\n",
        "\n",
        "The dataset contains more than 50,000 images of different traffic signs. It is further classified into 43 different classes. The dataset is quite varying, some of the classes have many images while some classes have few images. The size of the dataset is around 300 MB. The dataset has a train folder which contains images inside each class and a test folder which we will use for testing our model."
      ],
      "metadata": {
        "id": "EBIYKCQU8lp2"
      }
    },
    {
      "cell_type": "markdown",
      "source": [
        "Our approach to building this traffic sign classification model is discussed in eight steps:\n",
        "\n",
        "1)Download and Imports\n",
        "\n",
        "2)Loading Dataset (Traffic Signs Images)\n",
        "\n",
        "3)Data Splitting and conversion\n",
        "\n",
        "4)Creating CNN Model and Compiling the Model\n",
        "\n",
        "5)Training the Model\n",
        "\n",
        "6)Visualizing the performance of the Model during Training Phase\n",
        "\n",
        "7)Loading Test Dataset and Evaluating the Model\n",
        "\n",
        "8)Saving the Model"
      ],
      "metadata": {
        "id": "h_9pP4X28pGR"
      }
    },
    {
      "cell_type": "code",
      "source": [
        "from google.colab import drive\n",
        "drive.mount('/content/drive')"
      ],
      "metadata": {
        "colab": {
          "base_uri": "https://localhost:8080/"
        },
        "id": "GgcSMM0aGsrg",
        "outputId": "82a44b8c-5992-4828-eee8-0eabff483b57"
      },
      "execution_count": null,
      "outputs": [
        {
          "output_type": "stream",
          "name": "stdout",
          "text": [
            "Mounted at /content/drive\n"
          ]
        }
      ]
    },
    {
      "cell_type": "markdown",
      "source": [
        "# 1. Download and Imports"
      ],
      "metadata": {
        "id": "oJKWFYyoxPMy"
      }
    },
    {
      "cell_type": "code",
      "source": [
        "# Fundamental classes\n",
        "import numpy as np\n",
        "import pandas as pd\n",
        "import tensorflow as tf\n",
        "import os\n",
        "\n",
        "# Image related\n",
        "import cv2\n",
        "from PIL import Image\n",
        "\n",
        "# For ploting\n",
        "import matplotlib.pyplot as plt\n",
        "\n",
        "# For the model and it's training\n",
        "from sklearn.model_selection import train_test_split\n",
        "from tensorflow.keras.utils import to_categorical\n",
        "from tensorflow.keras.models import Sequential, load_model\n",
        "from tensorflow.keras.layers import Conv2D, MaxPool2D, Dense, Flatten, Dropout"
      ],
      "metadata": {
        "execution": {
          "iopub.status.busy": "2022-05-09T11:54:43.678722Z",
          "iopub.execute_input": "2022-05-09T11:54:43.679257Z",
          "iopub.status.idle": "2022-05-09T11:54:49.610698Z",
          "shell.execute_reply.started": "2022-05-09T11:54:43.679159Z",
          "shell.execute_reply": "2022-05-09T11:54:49.609810Z"
        },
        "trusted": true,
        "id": "fkf5eqw_xPM1"
      },
      "execution_count": null,
      "outputs": []
    },
    {
      "cell_type": "markdown",
      "source": [
        "Our ‘train’ folder contains 43 folders each representing a different class. The range of the folder is from 0 to 42. With the help of the OS module, we iterate over all the classes and append images and their respective labels in the data and labels list.\n",
        "\n",
        "The PIL library is used to open image content into an array."
      ],
      "metadata": {
        "id": "29VP1mB79PDZ"
      }
    },
    {
      "cell_type": "markdown",
      "source": [
        "# 2. Loading Dataset (Traffic Signs Images)"
      ],
      "metadata": {
        "id": "pu2t8KVTxPM5"
      }
    },
    {
      "cell_type": "code",
      "source": [
        "# Setting variables for later use\n",
        "data = []\n",
        "labels = []\n",
        "classes = 43\n",
        "cur_path = os.getcwd()\n",
        "\n",
        "# Retrieving the images and their labels\n",
        "for i in range(classes):\n",
        "    path = os.path.join('/content/drive/MyDrive/Datasets/GTSRB - German Traffic Sign Recognition Benchmark/','Train',str(i))\n",
        "    images = os.listdir(path)\n",
        "\n",
        "    for a in images:\n",
        "        try:\n",
        "            image = Image.open(path + '/'+ a)\n",
        "            image = image.resize((30,30))\n",
        "            image = np.array(image)\n",
        "            #sim = Image.fromarray(image)\n",
        "            data.append(image)\n",
        "            labels.append(i)\n",
        "        except:\n",
        "            print(\"Error loading image\")\n",
        "\n",
        "# Converting lists into numpy arrays\n",
        "data = np.array(data)\n",
        "labels = np.array(labels)"
      ],
      "metadata": {
        "execution": {
          "iopub.status.busy": "2022-05-09T11:54:49.614346Z",
          "iopub.execute_input": "2022-05-09T11:54:49.614566Z",
          "iopub.status.idle": "2022-05-09T12:00:02.173736Z",
          "shell.execute_reply.started": "2022-05-09T11:54:49.614538Z",
          "shell.execute_reply": "2022-05-09T12:00:02.172888Z"
        },
        "trusted": true,
        "id": "sT3JWVFsxPM7"
      },
      "execution_count": null,
      "outputs": []
    },
    {
      "cell_type": "markdown",
      "source": [
        "Finally, we have stored all the images and their labels into lists (data and labels).\n",
        "\n",
        "We need to convert the list into numpy arrays for feeding to the model."
      ],
      "metadata": {
        "id": "bPzTZuiR9WUA"
      }
    },
    {
      "cell_type": "markdown",
      "source": [
        "# 3. Data Splitting and conversion"
      ],
      "metadata": {
        "id": "k-FaDeELxPM_"
      }
    },
    {
      "cell_type": "code",
      "source": [
        "# Checking data shape\n",
        "print(data.shape, labels.shape)\n",
        "\n",
        "# Splitting training and testing dataset\n",
        "X_train, X_test, y_train, y_test = train_test_split(data, labels, test_size=0.2, random_state=42)\n",
        "\n",
        "# Displaying the shape after the split\n",
        "print(X_train.shape, X_test.shape, y_train.shape, y_test.shape)\n",
        "\n",
        "# Converting the labels into one hot encoding\n",
        "y_train = to_categorical(y_train, 43)\n",
        "y_test = to_categorical(y_test, 43)"
      ],
      "metadata": {
        "execution": {
          "iopub.status.busy": "2022-05-09T12:00:02.185110Z",
          "iopub.execute_input": "2022-05-09T12:00:02.185972Z",
          "iopub.status.idle": "2022-05-09T12:00:02.235993Z",
          "shell.execute_reply.started": "2022-05-09T12:00:02.185923Z",
          "shell.execute_reply": "2022-05-09T12:00:02.235152Z"
        },
        "trusted": true,
        "colab": {
          "base_uri": "https://localhost:8080/"
        },
        "id": "rrGPaJFBxPND",
        "outputId": "baaf48d4-73b7-406f-95ba-4a97f92e13ed"
      },
      "execution_count": null,
      "outputs": [
        {
          "output_type": "stream",
          "name": "stdout",
          "text": [
            "(39210, 30, 30, 3) (39210,)\n",
            "(31368, 30, 30, 3) (7842, 30, 30, 3) (31368,) (7842,)\n"
          ]
        }
      ]
    },
    {
      "cell_type": "markdown",
      "source": [
        "The shape of data is (39209, 30, 30, 3) which means that there are 39,209 images of size 30×30 pixels and the last 3 means the data contains colored images (RGB value).\n",
        "\n",
        "With the sklearn package, we use the train_test_split() method to split training and testing data.\n",
        "\n",
        "From the keras.utils package, we use to_categorical method to convert the labels present in y_train and t_test into one-hot encoding."
      ],
      "metadata": {
        "id": "Ez4D5Lxc9sbt"
      }
    },
    {
      "cell_type": "markdown",
      "source": [
        "# 4. Creating CNN Model and Compiling the Model"
      ],
      "metadata": {
        "id": "g53DtDvyxPNG"
      }
    },
    {
      "cell_type": "code",
      "source": [
        "# Building the model\n",
        "model = Sequential()\n",
        "model.add(Conv2D(filters=32, kernel_size=(5,5), activation='relu', input_shape=X_train.shape[1:]))\n",
        "model.add(Conv2D(filters=32, kernel_size=(5,5), activation='relu'))\n",
        "model.add(MaxPool2D(pool_size=(2, 2)))\n",
        "model.add(Dropout(rate=0.25))\n",
        "model.add(Conv2D(filters=64, kernel_size=(3, 3), activation='relu'))\n",
        "model.add(Conv2D(filters=64, kernel_size=(3, 3), activation='relu'))\n",
        "model.add(MaxPool2D(pool_size=(2, 2)))\n",
        "model.add(Dropout(rate=0.25))\n",
        "model.add(Flatten())\n",
        "model.add(Dense(256, activation='relu'))\n",
        "model.add(Dropout(rate=0.5))\n",
        "model.add(Dense(43, activation='softmax'))\n",
        "\n",
        "# Compilation of the model\n",
        "model.compile(loss='categorical_crossentropy', optimizer='adam', metrics=['accuracy'])\n",
        "\n",
        "#M odel display\n",
        "model.summary()"
      ],
      "metadata": {
        "execution": {
          "iopub.status.busy": "2022-05-09T12:00:02.237480Z",
          "iopub.execute_input": "2022-05-09T12:00:02.238383Z",
          "iopub.status.idle": "2022-05-09T12:00:02.698633Z",
          "shell.execute_reply.started": "2022-05-09T12:00:02.238335Z",
          "shell.execute_reply": "2022-05-09T12:00:02.697786Z"
        },
        "trusted": true,
        "colab": {
          "base_uri": "https://localhost:8080/"
        },
        "id": "MnetDFSXxPNK",
        "outputId": "a8daaf46-5dbd-4c4c-a325-bd40ad3958be"
      },
      "execution_count": null,
      "outputs": [
        {
          "output_type": "stream",
          "name": "stdout",
          "text": [
            "Model: \"sequential\"\n",
            "_________________________________________________________________\n",
            " Layer (type)                Output Shape              Param #   \n",
            "=================================================================\n",
            " conv2d (Conv2D)             (None, 26, 26, 32)        2432      \n",
            "                                                                 \n",
            " conv2d_1 (Conv2D)           (None, 22, 22, 32)        25632     \n",
            "                                                                 \n",
            " max_pooling2d (MaxPooling2D  (None, 11, 11, 32)       0         \n",
            " )                                                               \n",
            "                                                                 \n",
            " dropout (Dropout)           (None, 11, 11, 32)        0         \n",
            "                                                                 \n",
            " conv2d_2 (Conv2D)           (None, 9, 9, 64)          18496     \n",
            "                                                                 \n",
            " conv2d_3 (Conv2D)           (None, 7, 7, 64)          36928     \n",
            "                                                                 \n",
            " max_pooling2d_1 (MaxPooling  (None, 3, 3, 64)         0         \n",
            " 2D)                                                             \n",
            "                                                                 \n",
            " dropout_1 (Dropout)         (None, 3, 3, 64)          0         \n",
            "                                                                 \n",
            " flatten (Flatten)           (None, 576)               0         \n",
            "                                                                 \n",
            " dense (Dense)               (None, 256)               147712    \n",
            "                                                                 \n",
            " dropout_2 (Dropout)         (None, 256)               0         \n",
            "                                                                 \n",
            " dense_1 (Dense)             (None, 43)                11051     \n",
            "                                                                 \n",
            "=================================================================\n",
            "Total params: 242,251\n",
            "Trainable params: 242,251\n",
            "Non-trainable params: 0\n",
            "_________________________________________________________________\n"
          ]
        }
      ]
    },
    {
      "cell_type": "markdown",
      "source": [
        "To classify the images into their respective categories, we will build a CNN model (Convolutional Neural Network). CNN is best for image classification purposes.\n",
        "\n",
        "The architecture of our model is:\n",
        "\n",
        "* 2 Conv2D layer (filter=32, kernel_size=(5,5),activation=”relu”)\n",
        "* MaxPool2D layer ( pool_size=(2,2))\n",
        "\n",
        "\n",
        "* Dropout layer (rate=0.25)\n",
        "\n",
        "* 2 Conv2D layer (filter=64, kernel_size=(3,3), activation=”relu”)\n",
        "\n",
        "* MaxPool2D layer ( pool_size=(2,2))\n",
        "\n",
        "* Dropout layer (rate=0.25)\n",
        "* Flatten layer to squeeze the layers into 1 dimension\n",
        "Dense Fully connected layer (256 nodes, activation=”relu”)\n",
        "\n",
        "\n",
        "* Dropout layer (rate=0.5)\n",
        "\n",
        "\n",
        "* Dense layer (43 nodes, activation=”softmax”)\n",
        "\n",
        "\n",
        "We compile the model with Adam optimizer which performs well and loss is “categorical_crossentropy” because we have multiple classes to categorise."
      ],
      "metadata": {
        "id": "EeKyGlCc953j"
      }
    },
    {
      "cell_type": "markdown",
      "source": [
        "# 5. Training the Model"
      ],
      "metadata": {
        "id": "sVD_h7XAxPNM"
      }
    },
    {
      "cell_type": "code",
      "source": [
        "# Training the Model\n",
        "with tf.device('/GPU:0'):\n",
        "    epochs = 15\n",
        "    history = model.fit(X_train, y_train, batch_size=32, epochs=epochs, validation_data=(X_test, y_test))"
      ],
      "metadata": {
        "execution": {
          "iopub.status.busy": "2022-05-09T12:00:02.712415Z",
          "iopub.execute_input": "2022-05-09T12:00:02.712699Z",
          "iopub.status.idle": "2022-05-09T12:01:25.477208Z",
          "shell.execute_reply.started": "2022-05-09T12:00:02.712660Z",
          "shell.execute_reply": "2022-05-09T12:01:25.476311Z"
        },
        "trusted": true,
        "colab": {
          "base_uri": "https://localhost:8080/"
        },
        "id": "ZliURXCoxPNN",
        "outputId": "22dc75d0-42a1-4a78-d192-0f92cdcf1b19"
      },
      "execution_count": null,
      "outputs": [
        {
          "output_type": "stream",
          "name": "stdout",
          "text": [
            "Epoch 1/15\n",
            "981/981 [==============================] - 21s 11ms/step - loss: 2.0527 - accuracy: 0.4716 - val_loss: 0.6615 - val_accuracy: 0.8430\n",
            "Epoch 2/15\n",
            "981/981 [==============================] - 10s 10ms/step - loss: 0.9490 - accuracy: 0.7176 - val_loss: 0.3491 - val_accuracy: 0.9026\n",
            "Epoch 3/15\n",
            "981/981 [==============================] - 11s 11ms/step - loss: 0.7417 - accuracy: 0.7770 - val_loss: 0.2584 - val_accuracy: 0.9295\n",
            "Epoch 4/15\n",
            "981/981 [==============================] - 10s 10ms/step - loss: 0.6572 - accuracy: 0.8005 - val_loss: 0.2577 - val_accuracy: 0.9274\n",
            "Epoch 5/15\n",
            "981/981 [==============================] - 10s 11ms/step - loss: 0.6004 - accuracy: 0.8165 - val_loss: 0.2119 - val_accuracy: 0.9343\n",
            "Epoch 6/15\n",
            "981/981 [==============================] - 10s 11ms/step - loss: 0.5512 - accuracy: 0.8323 - val_loss: 0.1717 - val_accuracy: 0.9486\n",
            "Epoch 7/15\n",
            "981/981 [==============================] - 10s 10ms/step - loss: 0.5286 - accuracy: 0.8364 - val_loss: 0.1541 - val_accuracy: 0.9526\n",
            "Epoch 8/15\n",
            "981/981 [==============================] - 10s 10ms/step - loss: 0.5252 - accuracy: 0.8397 - val_loss: 0.1590 - val_accuracy: 0.9519\n",
            "Epoch 9/15\n",
            "981/981 [==============================] - 10s 10ms/step - loss: 0.4931 - accuracy: 0.8483 - val_loss: 0.1664 - val_accuracy: 0.9542\n",
            "Epoch 10/15\n",
            "981/981 [==============================] - 10s 11ms/step - loss: 0.4642 - accuracy: 0.8599 - val_loss: 0.1387 - val_accuracy: 0.9592\n",
            "Epoch 11/15\n",
            "981/981 [==============================] - 11s 11ms/step - loss: 0.4681 - accuracy: 0.8565 - val_loss: 0.1264 - val_accuracy: 0.9645\n",
            "Epoch 12/15\n",
            "981/981 [==============================] - 11s 11ms/step - loss: 0.4571 - accuracy: 0.8590 - val_loss: 0.1949 - val_accuracy: 0.9408\n",
            "Epoch 13/15\n",
            "981/981 [==============================] - 11s 11ms/step - loss: 0.4146 - accuracy: 0.8754 - val_loss: 0.1011 - val_accuracy: 0.9704\n",
            "Epoch 14/15\n",
            "981/981 [==============================] - 10s 11ms/step - loss: 0.3996 - accuracy: 0.8783 - val_loss: 0.1448 - val_accuracy: 0.9546\n",
            "Epoch 15/15\n",
            "981/981 [==============================] - 11s 11ms/step - loss: 0.3806 - accuracy: 0.8856 - val_loss: 0.1020 - val_accuracy: 0.9681\n"
          ]
        }
      ]
    },
    {
      "cell_type": "markdown",
      "source": [
        "After building the model architecture, we then train the model using model.fit(). I tried with batch size 32 and 64. Our model performed better with 64 batch size. And after 15 epochs the accuracy was stable."
      ],
      "metadata": {
        "id": "WrlzstR4-8Xa"
      }
    },
    {
      "cell_type": "markdown",
      "source": [
        "Our model got a 95% accuracy on the training dataset."
      ],
      "metadata": {
        "id": "rfxnz1-a_bRe"
      }
    },
    {
      "cell_type": "markdown",
      "source": [
        "# 6. Visualizing the performance of the Model during Training Phase"
      ],
      "metadata": {
        "id": "47tynCqoxPNQ"
      }
    },
    {
      "cell_type": "markdown",
      "source": [
        "With matplotlib, we plot the graph for accuracy and the loss."
      ],
      "metadata": {
        "id": "eGXlCJ77_ehT"
      }
    },
    {
      "cell_type": "code",
      "source": [
        "# Plotting performance graphs\n",
        "plt.figure(0)\n",
        "plt.plot(history.history['accuracy'], label='training accuracy')\n",
        "plt.plot(history.history['val_accuracy'], label='val accuracy')\n",
        "plt.title('Accuracy')\n",
        "plt.xlabel('epochs')\n",
        "plt.ylabel('accuracy')\n",
        "plt.legend()\n",
        "plt.show()\n",
        "\n",
        "plt.figure(1)\n",
        "plt.plot(history.history['loss'], label='training loss')\n",
        "plt.plot(history.history['val_loss'], label='val loss')\n",
        "plt.title('Loss')\n",
        "plt.xlabel('epochs')\n",
        "plt.ylabel('loss')\n",
        "plt.legend()\n",
        "plt.show()"
      ],
      "metadata": {
        "execution": {
          "iopub.status.busy": "2022-05-09T12:01:25.479082Z",
          "iopub.execute_input": "2022-05-09T12:01:25.479397Z",
          "iopub.status.idle": "2022-05-09T12:01:25.939877Z",
          "shell.execute_reply.started": "2022-05-09T12:01:25.479354Z",
          "shell.execute_reply": "2022-05-09T12:01:25.939177Z"
        },
        "trusted": true,
        "colab": {
          "base_uri": "https://localhost:8080/",
          "height": 573
        },
        "id": "50U57-EoxPNR",
        "outputId": "e9f2204c-806d-49a2-c433-ef19e1d2698e"
      },
      "execution_count": null,
      "outputs": [
        {
          "output_type": "display_data",
          "data": {
            "text/plain": [
              "<Figure size 432x288 with 1 Axes>"
            ],
            "image/png": "[encoded data removed]"
          },
          "metadata": {
            "needs_background": "light"
          }
        },
        {
          "output_type": "display_data",
          "data": {
            "text/plain": [
              "<Figure size 432x288 with 1 Axes>"
            ],
            "image/png": "[encoded data removed]"
          },
          "metadata": {
            "needs_background": "light"
          }
        }
      ]
    },
    {
      "cell_type": "markdown",
      "source": [
        "# 7. Loading Test Dataset and Evaluating the Model"
      ],
      "metadata": {
        "id": "73K--81uxPNV"
      }
    },
    {
      "cell_type": "code",
      "source": [
        "# testing accuracy on test dataset\n",
        "from sklearn.metrics import accuracy_score\n",
        "\n",
        "# Importing the test dataset\n",
        "y_test = pd.read_csv('/content/drive/MyDrive/Datasets/GTSRB - German Traffic Sign Recognition Benchmark/Test.csv')\n",
        "\n",
        "labels = y_test[\"ClassId\"].values\n",
        "imgs = y_test[\"Path\"].values\n",
        "\n",
        "data=[]\n",
        "\n",
        "# Retreiving the images\n",
        "with tf.device('/GPU:0'):\n",
        "    for img in imgs:\n",
        "        image = Image.open('/content/drive/MyDrive/Datasets/GTSRB - German Traffic Sign Recognition Benchmark/'+img)\n",
        "        image = image.resize([30, 30])\n",
        "        data.append(np.array(image))\n",
        "\n",
        "X_test=np.array(data)\n",
        "\n",
        "with tf.device('/GPU:0'):\n",
        "    pred = np.argmax(model.predict(X_test), axis=-1)\n",
        "\n",
        "#Accuracy with the test data\n",
        "from sklearn.metrics import accuracy_score\n",
        "print(accuracy_score(labels, pred))\n"
      ],
      "metadata": {
        "execution": {
          "iopub.status.busy": "2022-05-09T12:01:25.941052Z",
          "iopub.execute_input": "2022-05-09T12:01:25.942255Z",
          "iopub.status.idle": "2022-05-09T12:02:49.532568Z",
          "shell.execute_reply.started": "2022-05-09T12:01:25.942212Z",
          "shell.execute_reply": "2022-05-09T12:02:49.531782Z"
        },
        "trusted": true,
        "colab": {
          "base_uri": "https://localhost:8080/"
        },
        "id": "v9LaEhFYxPNW",
        "outputId": "fbef3a77-0846-4e2b-f7b7-e0021224a0e2"
      },
      "execution_count": null,
      "outputs": [
        {
          "output_type": "stream",
          "name": "stdout",
          "text": [
            "0.9223277909738717\n"
          ]
        }
      ]
    },
    {
      "cell_type": "markdown",
      "source": [
        "Our dataset contains a test folder and in a test.csv file, we have the details related to the image path and their respective class labels. We extract the image path and labels using pandas. Then to predict the model, we have to resize our images to 30×30 pixels and make a numpy array containing all image data. From the sklearn.metrics, we imported the accuracy_score and observed how our model predicted the actual labels. We achieved a 92% accuracy in this model."
      ],
      "metadata": {
        "id": "yWkqiZVv_s-i"
      }
    },
    {
      "cell_type": "markdown",
      "source": [
        "# 8. Savinng the Model"
      ],
      "metadata": {
        "id": "xwEnMfuhxPNY"
      }
    },
    {
      "cell_type": "code",
      "source": [
        "# Saving the Model\n",
        "model.save('traffic_classifier.h5')"
      ],
      "metadata": {
        "execution": {
          "iopub.status.busy": "2022-05-09T12:02:49.534954Z",
          "iopub.execute_input": "2022-05-09T12:02:49.535721Z",
          "iopub.status.idle": "2022-05-09T12:02:49.587660Z",
          "shell.execute_reply.started": "2022-05-09T12:02:49.535679Z",
          "shell.execute_reply": "2022-05-09T12:02:49.586829Z"
        },
        "trusted": true,
        "id": "4ESOAz2XxPNa"
      },
      "execution_count": null,
      "outputs": []
    },
    {
      "cell_type": "markdown",
      "source": [
        "In the end, we are going to save the model that we have trained using the Keras model.save() function."
      ],
      "metadata": {
        "id": "-tR-T8s6_zxj"
      }
    },
    {
      "cell_type": "markdown",
      "source": [
        "# **Summary**\n",
        "In this Python project with source code, we have successfully classified the traffic signs classifier with 92% accuracy and also visualized how our accuracy and loss changes with time, which is pretty good from a simple CNN model."
      ],
      "metadata": {
        "id": "H0HHa596ADh_"
      }
    }
  ]
}